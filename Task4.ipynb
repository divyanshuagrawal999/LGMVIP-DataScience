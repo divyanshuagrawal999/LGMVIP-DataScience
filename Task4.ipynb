{
 "cells": [
  {
   "cell_type": "markdown",
   "metadata": {
    "id": "oOsIlDVwNeaZ"
   },
   "source": [
    "**Data Science Intern - LetsGrowMore**\n",
    "\n",
    "Author: Divyanshu Agrawal\n",
    "\n",
    "Task 4: \n",
    "Stock Market Prediction and Forecasting\n",
    "\n",
    "OUTLINES:\n",
    "\n",
    "-Import libraries and Datasets\n",
    "-Data cleaning and preparation \n",
    "-Feature Engineering \n",
    "-Model building \n",
    "-Model evaluation"
   ]
  },
  {
   "cell_type": "markdown",
   "metadata": {
    "id": "oaJY1FMkfdu6"
   },
   "source": [
    "**Importing Libraries**"
   ]
  },
  {
   "cell_type": "code",
   "execution_count": 1,
   "metadata": {
    "id": "CsPLU-PF7ISB"
   },
   "outputs": [],
   "source": [
    "import pandas as pd\n",
    "import seaborn as sns\n",
    "import matplotlib.pyplot as plt\n",
    "import numpy as np\n",
    "\n",
    "import warnings\n",
    "warnings.filterwarnings('ignore')"
   ]
  },
  {
   "cell_type": "markdown",
   "metadata": {
    "id": "g2V912gIfmn2"
   },
   "source": [
    "**Loading & Analyzing Stocks Data**"
   ]
  },
  {
   "cell_type": "code",
   "execution_count": 2,
   "metadata": {
    "id": "bn-a_ZC-7Jd3"
   },
   "outputs": [],
   "source": [
    "data=pd.read_csv('https://raw.githubusercontent.com/mwitiderrick/stockprice/master/NSE-TATAGLOBAL.csv', \n",
    "                 infer_datetime_format=True, parse_dates=['Date'])\n"
   ]
  },
  {
   "cell_type": "code",
   "execution_count": 3,
   "metadata": {},
   "outputs": [],
   "source": [
    "data = data.set_index(['Date'])"
   ]
  },
  {
   "cell_type": "code",
   "execution_count": 4,
   "metadata": {
    "colab": {
     "base_uri": "https://localhost:8080/",
     "height": 237
    },
    "id": "iLf5RiPJ7Qar",
    "outputId": "596cc55f-8c3e-4af1-92a0-70e3c6b1ca2c"
   },
   "outputs": [
    {
     "data": {
      "text/html": [
       "<div>\n",
       "<style scoped>\n",
       "    .dataframe tbody tr th:only-of-type {\n",
       "        vertical-align: middle;\n",
       "    }\n",
       "\n",
       "    .dataframe tbody tr th {\n",
       "        vertical-align: top;\n",
       "    }\n",
       "\n",
       "    .dataframe thead th {\n",
       "        text-align: right;\n",
       "    }\n",
       "</style>\n",
       "<table border=\"1\" class=\"dataframe\">\n",
       "  <thead>\n",
       "    <tr style=\"text-align: right;\">\n",
       "      <th></th>\n",
       "      <th>Open</th>\n",
       "      <th>High</th>\n",
       "      <th>Low</th>\n",
       "      <th>Last</th>\n",
       "      <th>Close</th>\n",
       "      <th>Total Trade Quantity</th>\n",
       "      <th>Turnover (Lacs)</th>\n",
       "    </tr>\n",
       "    <tr>\n",
       "      <th>Date</th>\n",
       "      <th></th>\n",
       "      <th></th>\n",
       "      <th></th>\n",
       "      <th></th>\n",
       "      <th></th>\n",
       "      <th></th>\n",
       "      <th></th>\n",
       "    </tr>\n",
       "  </thead>\n",
       "  <tbody>\n",
       "    <tr>\n",
       "      <th>2018-09-28</th>\n",
       "      <td>234.05</td>\n",
       "      <td>235.95</td>\n",
       "      <td>230.20</td>\n",
       "      <td>233.50</td>\n",
       "      <td>233.75</td>\n",
       "      <td>3069914</td>\n",
       "      <td>7162.35</td>\n",
       "    </tr>\n",
       "    <tr>\n",
       "      <th>2018-09-27</th>\n",
       "      <td>234.55</td>\n",
       "      <td>236.80</td>\n",
       "      <td>231.10</td>\n",
       "      <td>233.80</td>\n",
       "      <td>233.25</td>\n",
       "      <td>5082859</td>\n",
       "      <td>11859.95</td>\n",
       "    </tr>\n",
       "    <tr>\n",
       "      <th>2018-09-26</th>\n",
       "      <td>240.00</td>\n",
       "      <td>240.00</td>\n",
       "      <td>232.50</td>\n",
       "      <td>235.00</td>\n",
       "      <td>234.25</td>\n",
       "      <td>2240909</td>\n",
       "      <td>5248.60</td>\n",
       "    </tr>\n",
       "    <tr>\n",
       "      <th>2018-09-25</th>\n",
       "      <td>233.30</td>\n",
       "      <td>236.75</td>\n",
       "      <td>232.00</td>\n",
       "      <td>236.25</td>\n",
       "      <td>236.10</td>\n",
       "      <td>2349368</td>\n",
       "      <td>5503.90</td>\n",
       "    </tr>\n",
       "    <tr>\n",
       "      <th>2018-09-24</th>\n",
       "      <td>233.55</td>\n",
       "      <td>239.20</td>\n",
       "      <td>230.75</td>\n",
       "      <td>234.00</td>\n",
       "      <td>233.30</td>\n",
       "      <td>3423509</td>\n",
       "      <td>7999.55</td>\n",
       "    </tr>\n",
       "  </tbody>\n",
       "</table>\n",
       "</div>"
      ],
      "text/plain": [
       "              Open    High     Low    Last   Close  Total Trade Quantity  \\\n",
       "Date                                                                       \n",
       "2018-09-28  234.05  235.95  230.20  233.50  233.75               3069914   \n",
       "2018-09-27  234.55  236.80  231.10  233.80  233.25               5082859   \n",
       "2018-09-26  240.00  240.00  232.50  235.00  234.25               2240909   \n",
       "2018-09-25  233.30  236.75  232.00  236.25  236.10               2349368   \n",
       "2018-09-24  233.55  239.20  230.75  234.00  233.30               3423509   \n",
       "\n",
       "            Turnover (Lacs)  \n",
       "Date                         \n",
       "2018-09-28          7162.35  \n",
       "2018-09-27         11859.95  \n",
       "2018-09-26          5248.60  \n",
       "2018-09-25          5503.90  \n",
       "2018-09-24          7999.55  "
      ]
     },
     "execution_count": 4,
     "metadata": {},
     "output_type": "execute_result"
    }
   ],
   "source": [
    "data.head()"
   ]
  },
  {
   "cell_type": "code",
   "execution_count": 5,
   "metadata": {
    "colab": {
     "base_uri": "https://localhost:8080/"
    },
    "id": "CEaoWjW9huWo",
    "outputId": "e28c758c-66da-4664-fe93-da7ee376381c"
   },
   "outputs": [
    {
     "name": "stdout",
     "output_type": "stream",
     "text": [
      "2018-09-28 00:00:00\n",
      "2010-07-21 00:00:00\n"
     ]
    }
   ],
   "source": [
    "print(data.index.unique().tolist()[0])\n",
    "print(data.index.unique().tolist()[-1])"
   ]
  },
  {
   "cell_type": "markdown",
   "metadata": {
    "id": "HL1dl8cYiTNY"
   },
   "source": [
    "**Given dataset has stock prices from year 2010-2018**"
   ]
  },
  {
   "cell_type": "code",
   "execution_count": 6,
   "metadata": {
    "colab": {
     "base_uri": "https://localhost:8080/"
    },
    "id": "Wc6GNISa7R0h",
    "outputId": "cf4c3c72-797b-4201-e541-433e0d4fe8c9"
   },
   "outputs": [
    {
     "data": {
      "text/plain": [
       "(2035, 7)"
      ]
     },
     "execution_count": 6,
     "metadata": {},
     "output_type": "execute_result"
    }
   ],
   "source": [
    "data.shape"
   ]
  },
  {
   "cell_type": "code",
   "execution_count": 7,
   "metadata": {
    "colab": {
     "base_uri": "https://localhost:8080/"
    },
    "id": "iL2rL8Qq7asn",
    "outputId": "87aee868-8bc6-4758-9afd-d8598c066fae"
   },
   "outputs": [
    {
     "data": {
      "text/plain": [
       "Open                    0\n",
       "High                    0\n",
       "Low                     0\n",
       "Last                    0\n",
       "Close                   0\n",
       "Total Trade Quantity    0\n",
       "Turnover (Lacs)         0\n",
       "dtype: int64"
      ]
     },
     "execution_count": 7,
     "metadata": {},
     "output_type": "execute_result"
    }
   ],
   "source": [
    "# Checking null values\n",
    "data.isnull().sum()"
   ]
  },
  {
   "cell_type": "code",
   "execution_count": 8,
   "metadata": {
    "colab": {
     "base_uri": "https://localhost:8080/"
    },
    "id": "MIR3X2f_734M",
    "outputId": "cc79988d-11ec-4363-be17-876ab51d9001"
   },
   "outputs": [
    {
     "name": "stdout",
     "output_type": "stream",
     "text": [
      "<class 'pandas.core.frame.DataFrame'>\n",
      "DatetimeIndex: 2035 entries, 2018-09-28 to 2010-07-21\n",
      "Data columns (total 7 columns):\n",
      " #   Column                Non-Null Count  Dtype  \n",
      "---  ------                --------------  -----  \n",
      " 0   Open                  2035 non-null   float64\n",
      " 1   High                  2035 non-null   float64\n",
      " 2   Low                   2035 non-null   float64\n",
      " 3   Last                  2035 non-null   float64\n",
      " 4   Close                 2035 non-null   float64\n",
      " 5   Total Trade Quantity  2035 non-null   int64  \n",
      " 6   Turnover (Lacs)       2035 non-null   float64\n",
      "dtypes: float64(6), int64(1)\n",
      "memory usage: 191.7 KB\n"
     ]
    }
   ],
   "source": [
    "data.info()"
   ]
  },
  {
   "cell_type": "markdown",
   "metadata": {
    "id": "GnCoKpXdhLDt"
   },
   "source": [
    "**Stock Closing Prices over the year (2010-2018)**"
   ]
  },
  {
   "cell_type": "code",
   "execution_count": 42,
   "metadata": {
    "colab": {
     "base_uri": "https://localhost:8080/",
     "height": 531
    },
    "id": "1uG4SEw_8qEK",
    "outputId": "c29d5d83-382d-4563-ae9a-a4db156649af"
   },
   "outputs": [
    {
     "data": {
      "text/plain": [
       "Text(0.5, 1.0, 'Stock Price Over the Years')"
      ]
     },
     "execution_count": 42,
     "metadata": {},
     "output_type": "execute_result"
    },
    {
     "data": {
      "image/png": "[encoded data removed]",
      "text/plain": [
       "<Figure size 1152x576 with 1 Axes>"
      ]
     },
     "metadata": {
      "needs_background": "light"
     },
     "output_type": "display_data"
    }
   ],
   "source": [
    "plt.figure(figsize=(16,8))\n",
    "plt.plot(data['Close'], label='Close Price history',color='g')\n",
    "plt.xlabel('Date',size=20)\n",
    "plt.ylabel('Stock Price',size=20)\n",
    "plt.title('Stock Price Over the Years',size=25)"
   ]
  },
  {
   "cell_type": "code",
   "execution_count": 10,
   "metadata": {
    "id": "VPCXInh48iJn"
   },
   "outputs": [],
   "source": [
    "df=data.reset_index()['Close']"
   ]
  },
  {
   "cell_type": "code",
   "execution_count": 11,
   "metadata": {
    "colab": {
     "base_uri": "https://localhost:8080/"
    },
    "id": "KqzhAknZGj5F",
    "outputId": "28edb6d3-8349-40e9-ed3b-e76dd80d80cf"
   },
   "outputs": [
    {
     "data": {
      "text/plain": [
       "0       233.75\n",
       "1       233.25\n",
       "2       234.25\n",
       "3       236.10\n",
       "4       233.30\n",
       "         ...  \n",
       "2030    118.65\n",
       "2031    117.60\n",
       "2032    120.65\n",
       "2033    120.90\n",
       "2034    121.55\n",
       "Name: Close, Length: 2035, dtype: float64"
      ]
     },
     "execution_count": 11,
     "metadata": {},
     "output_type": "execute_result"
    }
   ],
   "source": [
    "df"
   ]
  },
  {
   "cell_type": "code",
   "execution_count": 12,
   "metadata": {
    "id": "UcUeeFP_D7sO"
   },
   "outputs": [],
   "source": [
    "df1=df.copy()"
   ]
  },
  {
   "cell_type": "markdown",
   "metadata": {
    "id": "cFQp5CZPqlm9"
   },
   "source": [
    "**Feature Scaling**"
   ]
  },
  {
   "cell_type": "code",
   "execution_count": 13,
   "metadata": {
    "id": "nZ8vHVm17yVi"
   },
   "outputs": [],
   "source": [
    "from sklearn.preprocessing import MinMaxScaler\n",
    "\n",
    "scaler=MinMaxScaler(feature_range=(0,1))\n",
    "df=scaler.fit_transform(np.array(df).reshape(-1,1))"
   ]
  },
  {
   "cell_type": "code",
   "execution_count": 14,
   "metadata": {
    "colab": {
     "base_uri": "https://localhost:8080/"
    },
    "id": "o3IRMM2cGrQq",
    "outputId": "a514d4db-285c-4786-d0c3-61701bf929ea"
   },
   "outputs": [
    {
     "data": {
      "text/plain": [
       "array([[0.62418301],\n",
       "       [0.62214052],\n",
       "       [0.62622549],\n",
       "       ...,\n",
       "       [0.1621732 ],\n",
       "       [0.16319444],\n",
       "       [0.16584967]])"
      ]
     },
     "execution_count": 14,
     "metadata": {},
     "output_type": "execute_result"
    }
   ],
   "source": [
    "df"
   ]
  },
  {
   "cell_type": "markdown",
   "metadata": {
    "id": "oPjrvK_tuaG0"
   },
   "source": [
    "**Splitting dataset into train and test split**"
   ]
  },
  {
   "cell_type": "code",
   "execution_count": 15,
   "metadata": {
    "id": "KMN0452ZHADF"
   },
   "outputs": [],
   "source": [
    "training_size=int(len(df)*0.65)\n",
    "test_size=len(df)-training_size\n",
    "train_data,test_data=df[0:training_size,:],df[training_size:len(df),:]"
   ]
  },
  {
   "cell_type": "code",
   "execution_count": 16,
   "metadata": {
    "colab": {
     "base_uri": "https://localhost:8080/"
    },
    "id": "DknQKRvFHSg8",
    "outputId": "97143161-bede-49a6-887e-5dad2ec58334"
   },
   "outputs": [
    {
     "data": {
      "text/plain": [
       "(1322, 713)"
      ]
     },
     "execution_count": 16,
     "metadata": {},
     "output_type": "execute_result"
    }
   ],
   "source": [
    "training_size,test_size\n"
   ]
  },
  {
   "cell_type": "markdown",
   "metadata": {
    "id": "E1Fq1_VRq7Jb"
   },
   "source": [
    "**Data Sequencing**"
   ]
  },
  {
   "cell_type": "code",
   "execution_count": 17,
   "metadata": {
    "id": "t7CFLN_tHLZm"
   },
   "outputs": [],
   "source": [
    "# convert an array of values into a dataset matrix with 100 time-steps and 1 output\n",
    "def create_dataset(dataset, time_step=1):\n",
    "    dataX, dataY = [], []\n",
    "    for i in range(len(dataset)-time_step-1): \n",
    "        a = dataset[i:(i+time_step), 0]   \n",
    "        dataX.append(a)\n",
    "        dataY.append(dataset[i + time_step, 0])\n",
    "    return np.array(dataX), np.array(dataY)"
   ]
  },
  {
   "cell_type": "code",
   "execution_count": 18,
   "metadata": {
    "id": "swb7Gj1zHHBk"
   },
   "outputs": [],
   "source": [
    "# Making training and testing data with 100 time-steps and 1 output\n",
    "time_step = 100\n",
    "X_train, y_train = create_dataset(train_data, time_step)\n",
    "X_test, ytest = create_dataset(test_data, time_step)"
   ]
  },
  {
   "cell_type": "code",
   "execution_count": 19,
   "metadata": {
    "colab": {
     "base_uri": "https://localhost:8080/"
    },
    "id": "Pie6JRZSHr2W",
    "outputId": "6033d0a8-ee2a-4db4-9d61-bbce6b8966d2"
   },
   "outputs": [
    {
     "name": "stdout",
     "output_type": "stream",
     "text": [
      "(1221, 100)\n",
      "(1221,)\n"
     ]
    }
   ],
   "source": [
    "print(X_train.shape)\n",
    "print(y_train.shape)\n"
   ]
  },
  {
   "cell_type": "code",
   "execution_count": 20,
   "metadata": {
    "colab": {
     "base_uri": "https://localhost:8080/"
    },
    "id": "VoX2iB3ZHx2W",
    "outputId": "4402812d-c7c5-4321-b105-fcede6063d28"
   },
   "outputs": [
    {
     "name": "stdout",
     "output_type": "stream",
     "text": [
      "(612, 100)\n",
      "(612,)\n"
     ]
    }
   ],
   "source": [
    "print(X_test.shape)\n",
    "print(ytest.shape)\n"
   ]
  },
  {
   "cell_type": "markdown",
   "metadata": {
    "id": "zHqI7vNhsLQ0"
   },
   "source": [
    "**Reshaping our data (3D)**"
   ]
  },
  {
   "cell_type": "code",
   "execution_count": 21,
   "metadata": {
    "id": "PMPaT3E6H0hu"
   },
   "outputs": [],
   "source": [
    "# reshape input to be [samples, time steps, features] which is required for LSTM\n",
    "X_train =X_train.reshape(X_train.shape[0],X_train.shape[1] , 1)\n",
    "X_test = X_test.reshape(X_test.shape[0],X_test.shape[1] , 1)"
   ]
  },
  {
   "cell_type": "code",
   "execution_count": 22,
   "metadata": {
    "colab": {
     "base_uri": "https://localhost:8080/"
    },
    "id": "o1LbK7i7v5mx",
    "outputId": "ee8c27d3-ce26-4ead-a2cd-9083a039aa7f"
   },
   "outputs": [
    {
     "name": "stdout",
     "output_type": "stream",
     "text": [
      "(1221, 100, 1)\n",
      "(612, 100, 1)\n"
     ]
    }
   ],
   "source": [
    "print(X_train.shape)\n",
    "print(X_test.shape)"
   ]
  },
  {
   "cell_type": "markdown",
   "metadata": {
    "id": "CWq7GtvtsTsF"
   },
   "source": [
    "**Builing the LSTM Model**"
   ]
  },
  {
   "cell_type": "code",
   "execution_count": 23,
   "metadata": {
    "id": "ishdTWDWH4Pk"
   },
   "outputs": [
    {
     "name": "stderr",
     "output_type": "stream",
     "text": [
      "2022-02-25 20:47:29.552047: W tensorflow/stream_executor/platform/default/dso_loader.cc:64] Could not load dynamic library 'libcudart.so.11.0'; dlerror: libcudart.so.11.0: cannot open shared object file: No such file or directory\n",
      "2022-02-25 20:47:29.552086: I tensorflow/stream_executor/cuda/cudart_stub.cc:29] Ignore above cudart dlerror if you do not have a GPU set up on your machine.\n"
     ]
    }
   ],
   "source": [
    "\n",
    "from tensorflow.keras.models import Sequential\n",
    "from tensorflow.keras.layers import Dense\n",
    "from tensorflow.keras.layers import LSTM"
   ]
  },
  {
   "cell_type": "markdown",
   "metadata": {},
   "source": [
    "**LSTM has three gates:**\n",
    "\n",
    "-Input gate\n",
    "\n",
    "-Forget gate\n",
    "\n",
    "-Output gate"
   ]
  },
  {
   "cell_type": "code",
   "execution_count": 24,
   "metadata": {
    "id": "qgnYZ6RHH-PL"
   },
   "outputs": [
    {
     "name": "stderr",
     "output_type": "stream",
     "text": [
      "2022-02-25 20:47:33.096651: W tensorflow/stream_executor/platform/default/dso_loader.cc:64] Could not load dynamic library 'libcuda.so.1'; dlerror: libcuda.so.1: cannot open shared object file: No such file or directory\n",
      "2022-02-25 20:47:33.096697: W tensorflow/stream_executor/cuda/cuda_driver.cc:269] failed call to cuInit: UNKNOWN ERROR (303)\n",
      "2022-02-25 20:47:33.096723: I tensorflow/stream_executor/cuda/cuda_diagnostics.cc:156] kernel driver does not appear to be running on this host (hpdiv): /proc/driver/nvidia/version does not exist\n",
      "2022-02-25 20:47:33.097027: I tensorflow/core/platform/cpu_feature_guard.cc:151] This TensorFlow binary is optimized with oneAPI Deep Neural Network Library (oneDNN) to use the following CPU instructions in performance-critical operations:  AVX2 FMA\n",
      "To enable them in other operations, rebuild TensorFlow with the appropriate compiler flags.\n"
     ]
    }
   ],
   "source": [
    "model=Sequential()\n",
    "model.add(LSTM(50,return_sequences=True,input_shape=(100,1))) # Lstm Layer with Input layer(lstm layer-1)\n",
    "model.add(LSTM(50,return_sequences=True)) # Lstm Layer-2\n",
    "model.add(LSTM(50)) # Lstm Layer-3\n",
    "model.add(Dense(1)) # output layer\n",
    "model.compile(loss='mean_squared_error',optimizer='adam')"
   ]
  },
  {
   "cell_type": "code",
   "execution_count": 25,
   "metadata": {
    "colab": {
     "base_uri": "https://localhost:8080/"
    },
    "id": "uID2tZguIE_J",
    "outputId": "6a9ec887-cff3-42a8-891d-b487ebd1b90c"
   },
   "outputs": [
    {
     "name": "stdout",
     "output_type": "stream",
     "text": [
      "Model: \"sequential\"\n",
      "_________________________________________________________________\n",
      " Layer (type)                Output Shape              Param #   \n",
      "=================================================================\n",
      " lstm (LSTM)                 (None, 100, 50)           10400     \n",
      "                                                                 \n",
      " lstm_1 (LSTM)               (None, 100, 50)           20200     \n",
      "                                                                 \n",
      " lstm_2 (LSTM)               (None, 50)                20200     \n",
      "                                                                 \n",
      " dense (Dense)               (None, 1)                 51        \n",
      "                                                                 \n",
      "=================================================================\n",
      "Total params: 50,851\n",
      "Trainable params: 50,851\n",
      "Non-trainable params: 0\n",
      "_________________________________________________________________\n"
     ]
    }
   ],
   "source": [
    "model.summary()"
   ]
  },
  {
   "cell_type": "code",
   "execution_count": 26,
   "metadata": {
    "colab": {
     "base_uri": "https://localhost:8080/"
    },
    "id": "7_a4pZMZIHQP",
    "outputId": "3aed3d49-c001-4574-ccfa-151bbf81308b"
   },
   "outputs": [
    {
     "name": "stdout",
     "output_type": "stream",
     "text": [
      "Epoch 1/100\n",
      "20/20 [==============================] - 12s 269ms/step - loss: 0.0329 - val_loss: 0.0040\n",
      "Epoch 2/100\n",
      "20/20 [==============================] - 4s 187ms/step - loss: 0.0037 - val_loss: 0.0018\n",
      "Epoch 3/100\n",
      "20/20 [==============================] - 4s 198ms/step - loss: 0.0023 - val_loss: 0.0014\n",
      "Epoch 4/100\n",
      "20/20 [==============================] - 4s 190ms/step - loss: 0.0016 - val_loss: 0.0011\n",
      "Epoch 5/100\n",
      "20/20 [==============================] - 4s 191ms/step - loss: 0.0015 - val_loss: 0.0014\n",
      "Epoch 6/100\n",
      "20/20 [==============================] - 4s 193ms/step - loss: 0.0016 - val_loss: 0.0010\n",
      "Epoch 7/100\n",
      "20/20 [==============================] - 4s 198ms/step - loss: 0.0013 - val_loss: 0.0010\n",
      "Epoch 8/100\n",
      "20/20 [==============================] - 4s 183ms/step - loss: 0.0013 - val_loss: 0.0015\n",
      "Epoch 9/100\n",
      "20/20 [==============================] - 4s 196ms/step - loss: 0.0013 - val_loss: 0.0011\n",
      "Epoch 10/100\n",
      "20/20 [==============================] - 4s 183ms/step - loss: 0.0011 - val_loss: 0.0012\n",
      "Epoch 11/100\n",
      "20/20 [==============================] - 4s 186ms/step - loss: 0.0012 - val_loss: 8.8652e-04\n",
      "Epoch 12/100\n",
      "20/20 [==============================] - 4s 192ms/step - loss: 0.0011 - val_loss: 8.9646e-04\n",
      "Epoch 13/100\n",
      "20/20 [==============================] - 4s 186ms/step - loss: 9.9264e-04 - val_loss: 7.8555e-04\n",
      "Epoch 14/100\n",
      "20/20 [==============================] - 4s 180ms/step - loss: 0.0011 - val_loss: 6.6212e-04\n",
      "Epoch 15/100\n",
      "20/20 [==============================] - 4s 190ms/step - loss: 9.6510e-04 - val_loss: 7.7398e-04\n",
      "Epoch 16/100\n",
      "20/20 [==============================] - 4s 194ms/step - loss: 8.9525e-04 - val_loss: 7.1320e-04\n",
      "Epoch 17/100\n",
      "20/20 [==============================] - 4s 200ms/step - loss: 8.7575e-04 - val_loss: 6.5397e-04\n",
      "Epoch 18/100\n",
      "20/20 [==============================] - 4s 197ms/step - loss: 8.4234e-04 - val_loss: 9.0730e-04\n",
      "Epoch 19/100\n",
      "20/20 [==============================] - 4s 180ms/step - loss: 8.7297e-04 - val_loss: 5.9434e-04\n",
      "Epoch 20/100\n",
      "20/20 [==============================] - 4s 180ms/step - loss: 8.1147e-04 - val_loss: 7.1028e-04\n",
      "Epoch 21/100\n",
      "20/20 [==============================] - 4s 180ms/step - loss: 7.4395e-04 - val_loss: 6.0200e-04\n",
      "Epoch 22/100\n",
      "20/20 [==============================] - 4s 179ms/step - loss: 8.6993e-04 - val_loss: 9.8075e-04\n",
      "Epoch 23/100\n",
      "20/20 [==============================] - 4s 181ms/step - loss: 9.2223e-04 - val_loss: 6.1745e-04\n",
      "Epoch 24/100\n",
      "20/20 [==============================] - 4s 192ms/step - loss: 0.0011 - val_loss: 6.5294e-04\n",
      "Epoch 25/100\n",
      "20/20 [==============================] - 4s 181ms/step - loss: 7.3897e-04 - val_loss: 7.4369e-04\n",
      "Epoch 26/100\n",
      "20/20 [==============================] - 4s 181ms/step - loss: 6.9009e-04 - val_loss: 8.4516e-04\n",
      "Epoch 27/100\n",
      "20/20 [==============================] - 4s 181ms/step - loss: 7.1026e-04 - val_loss: 7.1606e-04\n",
      "Epoch 28/100\n",
      "20/20 [==============================] - 4s 181ms/step - loss: 6.7876e-04 - val_loss: 7.0950e-04\n",
      "Epoch 29/100\n",
      "20/20 [==============================] - 4s 182ms/step - loss: 7.1575e-04 - val_loss: 6.2158e-04\n",
      "Epoch 30/100\n",
      "20/20 [==============================] - 4s 181ms/step - loss: 7.4355e-04 - val_loss: 5.4262e-04\n",
      "Epoch 31/100\n",
      "20/20 [==============================] - 4s 190ms/step - loss: 6.2574e-04 - val_loss: 6.6455e-04\n",
      "Epoch 32/100\n",
      "20/20 [==============================] - 4s 183ms/step - loss: 6.0953e-04 - val_loss: 6.5740e-04\n",
      "Epoch 33/100\n",
      "20/20 [==============================] - 4s 183ms/step - loss: 5.9541e-04 - val_loss: 5.6958e-04\n",
      "Epoch 34/100\n",
      "20/20 [==============================] - 4s 183ms/step - loss: 7.7452e-04 - val_loss: 9.4754e-04\n",
      "Epoch 35/100\n",
      "20/20 [==============================] - 4s 182ms/step - loss: 9.1260e-04 - val_loss: 8.9100e-04\n",
      "Epoch 36/100\n",
      "20/20 [==============================] - 4s 182ms/step - loss: 6.1620e-04 - val_loss: 5.7760e-04\n",
      "Epoch 37/100\n",
      "20/20 [==============================] - 4s 182ms/step - loss: 6.7358e-04 - val_loss: 5.2726e-04\n",
      "Epoch 38/100\n",
      "20/20 [==============================] - 4s 182ms/step - loss: 6.4631e-04 - val_loss: 5.5232e-04\n",
      "Epoch 39/100\n",
      "20/20 [==============================] - 4s 181ms/step - loss: 5.9083e-04 - val_loss: 7.5962e-04\n",
      "Epoch 40/100\n",
      "20/20 [==============================] - 4s 182ms/step - loss: 5.4912e-04 - val_loss: 5.2230e-04\n",
      "Epoch 41/100\n",
      "20/20 [==============================] - 4s 189ms/step - loss: 6.1613e-04 - val_loss: 5.3463e-04\n",
      "Epoch 42/100\n",
      "20/20 [==============================] - 4s 182ms/step - loss: 5.3674e-04 - val_loss: 5.2057e-04\n",
      "Epoch 43/100\n",
      "20/20 [==============================] - 4s 182ms/step - loss: 6.2568e-04 - val_loss: 6.2164e-04\n",
      "Epoch 44/100\n",
      "20/20 [==============================] - 4s 181ms/step - loss: 5.7093e-04 - val_loss: 6.4263e-04\n",
      "Epoch 45/100\n",
      "20/20 [==============================] - 4s 182ms/step - loss: 5.4732e-04 - val_loss: 6.7682e-04\n",
      "Epoch 46/100\n",
      "20/20 [==============================] - 4s 182ms/step - loss: 5.3415e-04 - val_loss: 5.6938e-04\n",
      "Epoch 47/100\n",
      "20/20 [==============================] - 4s 182ms/step - loss: 4.9536e-04 - val_loss: 5.0505e-04\n",
      "Epoch 48/100\n",
      "20/20 [==============================] - 4s 182ms/step - loss: 5.1920e-04 - val_loss: 5.3182e-04\n",
      "Epoch 49/100\n",
      "20/20 [==============================] - 4s 182ms/step - loss: 6.0270e-04 - val_loss: 4.8898e-04\n",
      "Epoch 50/100\n",
      "20/20 [==============================] - 4s 183ms/step - loss: 5.5579e-04 - val_loss: 4.6082e-04\n",
      "Epoch 51/100\n",
      "20/20 [==============================] - 4s 182ms/step - loss: 5.5190e-04 - val_loss: 4.1943e-04\n",
      "Epoch 52/100\n",
      "20/20 [==============================] - 4s 182ms/step - loss: 4.7490e-04 - val_loss: 4.9557e-04\n",
      "Epoch 53/100\n",
      "20/20 [==============================] - 4s 182ms/step - loss: 4.5749e-04 - val_loss: 4.9940e-04\n",
      "Epoch 54/100\n",
      "20/20 [==============================] - 4s 192ms/step - loss: 4.5007e-04 - val_loss: 4.9127e-04\n",
      "Epoch 55/100\n",
      "20/20 [==============================] - 4s 196ms/step - loss: 4.4693e-04 - val_loss: 5.3163e-04\n",
      "Epoch 56/100\n",
      "20/20 [==============================] - 4s 187ms/step - loss: 4.4645e-04 - val_loss: 4.3833e-04\n",
      "Epoch 57/100\n",
      "20/20 [==============================] - 4s 185ms/step - loss: 7.8534e-04 - val_loss: 3.8817e-04\n",
      "Epoch 58/100\n",
      "20/20 [==============================] - 4s 185ms/step - loss: 5.1875e-04 - val_loss: 4.6251e-04\n",
      "Epoch 59/100\n",
      "20/20 [==============================] - 4s 182ms/step - loss: 4.5631e-04 - val_loss: 4.9452e-04\n",
      "Epoch 60/100\n",
      "20/20 [==============================] - 4s 182ms/step - loss: 4.5974e-04 - val_loss: 4.9231e-04\n",
      "Epoch 61/100\n",
      "20/20 [==============================] - 4s 182ms/step - loss: 4.2422e-04 - val_loss: 4.8062e-04\n",
      "Epoch 62/100\n",
      "20/20 [==============================] - 4s 183ms/step - loss: 4.3020e-04 - val_loss: 3.5952e-04\n",
      "Epoch 63/100\n",
      "20/20 [==============================] - 4s 183ms/step - loss: 3.9140e-04 - val_loss: 4.1056e-04\n",
      "Epoch 64/100\n",
      "20/20 [==============================] - 4s 190ms/step - loss: 4.3691e-04 - val_loss: 3.9887e-04\n",
      "Epoch 65/100\n",
      "20/20 [==============================] - 4s 183ms/step - loss: 3.9661e-04 - val_loss: 3.6456e-04\n",
      "Epoch 66/100\n",
      "20/20 [==============================] - 4s 183ms/step - loss: 4.1814e-04 - val_loss: 2.9615e-04\n",
      "Epoch 67/100\n",
      "20/20 [==============================] - 4s 187ms/step - loss: 4.0273e-04 - val_loss: 3.2734e-04\n",
      "Epoch 68/100\n",
      "20/20 [==============================] - 4s 183ms/step - loss: 3.9099e-04 - val_loss: 3.2819e-04\n",
      "Epoch 69/100\n",
      "20/20 [==============================] - 4s 185ms/step - loss: 3.5824e-04 - val_loss: 3.1777e-04\n",
      "Epoch 70/100\n",
      "20/20 [==============================] - 4s 183ms/step - loss: 3.8547e-04 - val_loss: 4.4762e-04\n",
      "Epoch 71/100\n",
      "20/20 [==============================] - 4s 183ms/step - loss: 4.3183e-04 - val_loss: 3.3024e-04\n",
      "Epoch 72/100\n",
      "20/20 [==============================] - 4s 184ms/step - loss: 3.4401e-04 - val_loss: 3.0038e-04\n",
      "Epoch 73/100\n",
      "20/20 [==============================] - 4s 184ms/step - loss: 4.1255e-04 - val_loss: 4.2025e-04\n",
      "Epoch 74/100\n",
      "20/20 [==============================] - 4s 183ms/step - loss: 3.7103e-04 - val_loss: 2.9335e-04\n",
      "Epoch 75/100\n",
      "20/20 [==============================] - 4s 185ms/step - loss: 3.5533e-04 - val_loss: 3.5186e-04\n",
      "Epoch 76/100\n"
     ]
    },
    {
     "name": "stdout",
     "output_type": "stream",
     "text": [
      "20/20 [==============================] - 4s 181ms/step - loss: 3.6162e-04 - val_loss: 2.7378e-04\n",
      "Epoch 77/100\n",
      "20/20 [==============================] - 4s 181ms/step - loss: 4.0070e-04 - val_loss: 2.6131e-04\n",
      "Epoch 78/100\n",
      "20/20 [==============================] - 4s 183ms/step - loss: 3.5163e-04 - val_loss: 2.7821e-04\n",
      "Epoch 79/100\n",
      "20/20 [==============================] - 4s 182ms/step - loss: 3.1065e-04 - val_loss: 3.0456e-04\n",
      "Epoch 80/100\n",
      "20/20 [==============================] - 4s 182ms/step - loss: 3.2489e-04 - val_loss: 2.8853e-04\n",
      "Epoch 81/100\n",
      "20/20 [==============================] - 4s 188ms/step - loss: 2.8980e-04 - val_loss: 2.6464e-04\n",
      "Epoch 82/100\n",
      "20/20 [==============================] - 4s 200ms/step - loss: 2.9045e-04 - val_loss: 2.3725e-04\n",
      "Epoch 83/100\n",
      "20/20 [==============================] - 4s 198ms/step - loss: 2.8753e-04 - val_loss: 2.3707e-04\n",
      "Epoch 84/100\n",
      "20/20 [==============================] - 4s 183ms/step - loss: 3.0368e-04 - val_loss: 4.1501e-04\n",
      "Epoch 85/100\n",
      "20/20 [==============================] - 4s 187ms/step - loss: 3.8046e-04 - val_loss: 2.4846e-04\n",
      "Epoch 86/100\n",
      "20/20 [==============================] - 4s 191ms/step - loss: 3.2619e-04 - val_loss: 2.7588e-04\n",
      "Epoch 87/100\n",
      "20/20 [==============================] - 4s 188ms/step - loss: 3.0303e-04 - val_loss: 3.4978e-04\n",
      "Epoch 88/100\n",
      "20/20 [==============================] - 4s 184ms/step - loss: 2.9488e-04 - val_loss: 2.5368e-04\n",
      "Epoch 89/100\n",
      "20/20 [==============================] - 4s 182ms/step - loss: 2.8326e-04 - val_loss: 2.4561e-04\n",
      "Epoch 90/100\n",
      "20/20 [==============================] - 4s 182ms/step - loss: 2.8550e-04 - val_loss: 2.4391e-04\n",
      "Epoch 91/100\n",
      "20/20 [==============================] - 4s 182ms/step - loss: 2.7169e-04 - val_loss: 2.1841e-04\n",
      "Epoch 92/100\n",
      "20/20 [==============================] - 4s 183ms/step - loss: 2.8080e-04 - val_loss: 2.5806e-04\n",
      "Epoch 93/100\n",
      "20/20 [==============================] - 4s 183ms/step - loss: 2.4793e-04 - val_loss: 2.1331e-04\n",
      "Epoch 94/100\n",
      "20/20 [==============================] - 4s 182ms/step - loss: 3.3818e-04 - val_loss: 2.1349e-04\n",
      "Epoch 95/100\n",
      "20/20 [==============================] - 4s 182ms/step - loss: 2.4573e-04 - val_loss: 2.4761e-04\n",
      "Epoch 96/100\n",
      "20/20 [==============================] - 4s 185ms/step - loss: 2.7581e-04 - val_loss: 3.1403e-04\n",
      "Epoch 97/100\n",
      "20/20 [==============================] - 4s 187ms/step - loss: 2.7209e-04 - val_loss: 1.9700e-04\n",
      "Epoch 98/100\n",
      "20/20 [==============================] - 4s 182ms/step - loss: 2.8924e-04 - val_loss: 2.8419e-04\n",
      "Epoch 99/100\n",
      "20/20 [==============================] - 4s 185ms/step - loss: 3.0016e-04 - val_loss: 2.4877e-04\n",
      "Epoch 100/100\n",
      "20/20 [==============================] - 4s 189ms/step - loss: 2.5922e-04 - val_loss: 2.8609e-04\n"
     ]
    },
    {
     "data": {
      "text/plain": [
       "<keras.callbacks.History at 0x7f4ebc12ea30>"
      ]
     },
     "execution_count": 26,
     "metadata": {},
     "output_type": "execute_result"
    }
   ],
   "source": [
    "model.fit(X_train,y_train,validation_data=(X_test,ytest),epochs=100,batch_size=64,verbose=1)\n"
   ]
  },
  {
   "cell_type": "code",
   "execution_count": 27,
   "metadata": {
    "id": "r6j62AoIIrCt"
   },
   "outputs": [],
   "source": [
    "import tensorflow as tf\n",
    "\n",
    "train_predict=model.predict(X_train)\n",
    "test_predict=model.predict(X_test)"
   ]
  },
  {
   "cell_type": "code",
   "execution_count": 28,
   "metadata": {
    "id": "SOak-f6UKXzr"
   },
   "outputs": [],
   "source": [
    "train_predict=scaler.inverse_transform(train_predict)\n",
    "test_predict=scaler.inverse_transform(test_predict)"
   ]
  },
  {
   "cell_type": "code",
   "execution_count": 29,
   "metadata": {
    "colab": {
     "base_uri": "https://localhost:8080/"
    },
    "id": "RC8QYJW7xbYD",
    "outputId": "c064752a-7006-4bf3-d30a-09e2d10f70b1"
   },
   "outputs": [
    {
     "name": "stdout",
     "output_type": "stream",
     "text": [
      "(1221, 1)\n",
      "(612, 1)\n"
     ]
    }
   ],
   "source": [
    "print(train_predict.shape)\n",
    "print(test_predict.shape)"
   ]
  },
  {
   "cell_type": "code",
   "execution_count": 30,
   "metadata": {
    "colab": {
     "base_uri": "https://localhost:8080/"
    },
    "id": "AFq4L18LKbLE",
    "outputId": "c353bb89-3844-4bb8-f0d9-67ddd203e613"
   },
   "outputs": [
    {
     "data": {
      "text/plain": [
       "169.76677003930365"
      ]
     },
     "execution_count": 30,
     "metadata": {},
     "output_type": "execute_result"
    }
   ],
   "source": [
    "#Calculating r^2 value for training data\n",
    "import math\n",
    "from sklearn.metrics import mean_squared_error\n",
    "math.sqrt(mean_squared_error(y_train,train_predict))\n"
   ]
  },
  {
   "cell_type": "code",
   "execution_count": 31,
   "metadata": {
    "colab": {
     "base_uri": "https://localhost:8080/"
    },
    "id": "0MI01Im0KeM-",
    "outputId": "a92ffbc7-4077-4034-c722-1aa4076eff3e"
   },
   "outputs": [
    {
     "data": {
      "text/plain": [
       "117.23736376122794"
      ]
     },
     "execution_count": 31,
     "metadata": {},
     "output_type": "execute_result"
    }
   ],
   "source": [
    "# Calculating r^2 value for test data\n",
    "math.sqrt(mean_squared_error(ytest,test_predict))"
   ]
  },
  {
   "cell_type": "markdown",
   "metadata": {
    "id": "rYckw1lx0-Pq"
   },
   "source": [
    "**Visualizing Stock Price Prediction for training and testing data**"
   ]
  },
  {
   "cell_type": "code",
   "execution_count": 32,
   "metadata": {
    "colab": {
     "base_uri": "https://localhost:8080/",
     "height": 513
    },
    "id": "WNSOy93AKguW",
    "outputId": "4a3015ce-09d0-4059-c3c7-024ac7855755"
   },
   "outputs": [
    {
     "data": {
      "image/png": "[encoded data removed]",
      "text/plain": [
       "<Figure size 720x720 with 1 Axes>"
      ]
     },
     "metadata": {
      "needs_background": "light"
     },
     "output_type": "display_data"
    }
   ],
   "source": [
    "plt.figure(figsize=(10, 10))\n",
    "\n",
    "look_back=100\n",
    "trainPredictPlot = np.empty_like(df)\n",
    "trainPredictPlot[:, :] = np.nan\n",
    "trainPredictPlot[look_back:len(train_predict)+look_back, :] = train_predict\n",
    "\n",
    "testPredictPlot = np.empty_like(df)\n",
    "testPredictPlot[:, :] = np.nan\n",
    "testPredictPlot[len(train_predict)+(look_back*2)+1:len(df)-1, :] = test_predict\n",
    "\n",
    "plt.plot(scaler.inverse_transform(df), label = 'Stock Price')\n",
    "plt.plot(trainPredictPlot, label = 'Training Prediction')\n",
    "plt.plot(testPredictPlot, label = 'Testing Prediction')\n",
    "\n",
    "plt.title('Stock Price Prediction')\n",
    "plt.xlabel('Days')\n",
    "plt.ylabel('Stock Price(close)')\n",
    "plt.legend()\n",
    "plt.show()"
   ]
  },
  {
   "cell_type": "markdown",
   "metadata": {
    "id": "CuKTVwMA1oja"
   },
   "source": [
    "**Forecast on future 30 days\n",
    "Collect previous 100 days data**"
   ]
  },
  {
   "cell_type": "code",
   "execution_count": 33,
   "metadata": {
    "colab": {
     "base_uri": "https://localhost:8080/"
    },
    "id": "wcXDb3edK2g0",
    "outputId": "3f8fe596-c53f-484a-dce1-b0bb310239df"
   },
   "outputs": [
    {
     "data": {
      "text/plain": [
       "713"
      ]
     },
     "execution_count": 33,
     "metadata": {},
     "output_type": "execute_result"
    }
   ],
   "source": [
    "len(test_data)\n"
   ]
  },
  {
   "cell_type": "code",
   "execution_count": 34,
   "metadata": {
    "colab": {
     "base_uri": "https://localhost:8080/"
    },
    "id": "FEMp9AgbLY-Z",
    "outputId": "3fde9e37-94a7-4e03-a412-c561d33f01cc"
   },
   "outputs": [
    {
     "data": {
      "text/plain": [
       "(1, 100)"
      ]
     },
     "execution_count": 34,
     "metadata": {},
     "output_type": "execute_result"
    }
   ],
   "source": [
    "x_input=test_data[613:].reshape(1,-1)\n",
    "x_input.shape"
   ]
  },
  {
   "cell_type": "code",
   "execution_count": 35,
   "metadata": {
    "id": "FqZeUZwWLam5"
   },
   "outputs": [],
   "source": [
    "# Contains previous 100 days data \n",
    "temp_input=list(x_input)\n",
    "temp_input=temp_input[0].tolist()"
   ]
  },
  {
   "cell_type": "markdown",
   "metadata": {
    "id": "RG-4CatI4h1s"
   },
   "source": [
    " **Let's predict for coming 30 days from previous data**"
   ]
  },
  {
   "cell_type": "code",
   "execution_count": 36,
   "metadata": {
    "id": "9NTmn7_WLfZy"
   },
   "outputs": [],
   "source": [
    "n_steps = len(temp_input)\n",
    "for i in range(30):\n",
    "    input_ = temp_input[i:]\n",
    "    input_ = np.array(input_).reshape(1, n_steps, 1)\n",
    "    output = model.predict(input_)[0][0]\n",
    "    temp_input.append(output)"
   ]
  },
  {
   "cell_type": "code",
   "execution_count": 37,
   "metadata": {
    "colab": {
     "base_uri": "https://localhost:8080/"
    },
    "id": "7Kyerxe_6jcZ",
    "outputId": "b6c5c7b0-137a-4248-d059-c95040313b2b"
   },
   "outputs": [
    {
     "data": {
      "text/plain": [
       "130"
      ]
     },
     "execution_count": 37,
     "metadata": {},
     "output_type": "execute_result"
    }
   ],
   "source": [
    "len(temp_input)\n"
   ]
  },
  {
   "cell_type": "markdown",
   "metadata": {
    "id": "rBYSEIBB6nBG"
   },
   "source": [
    "**Length is 130 as it contains data of previous 100 days and 30 predicted days**"
   ]
  },
  {
   "cell_type": "code",
   "execution_count": 38,
   "metadata": {
    "id": "RL5jkaeqLofT"
   },
   "outputs": [],
   "source": [
    "day_new=np.arange(1,101)\n",
    "day_pred=np.arange(101,131)"
   ]
  },
  {
   "cell_type": "code",
   "execution_count": 39,
   "metadata": {
    "colab": {
     "base_uri": "https://localhost:8080/"
    },
    "id": "CWaBbx9G8APw",
    "outputId": "82ac1b68-6593-442d-d6a2-69627aefb807"
   },
   "outputs": [
    {
     "data": {
      "text/plain": [
       "2035"
      ]
     },
     "execution_count": 39,
     "metadata": {},
     "output_type": "execute_result"
    }
   ],
   "source": [
    "len(df)"
   ]
  },
  {
   "cell_type": "code",
   "execution_count": 41,
   "metadata": {
    "colab": {
     "base_uri": "https://localhost:8080/",
     "height": 295
    },
    "id": "R1DpwUYDOf5p",
    "outputId": "78eaee3e-28b5-4949-dc75-388d3df7169b"
   },
   "outputs": [
    {
     "data": {
      "image/png": "[encoded data removed]",
      "text/plain": [
       "<Figure size 720x720 with 1 Axes>"
      ]
     },
     "metadata": {
      "needs_background": "light"
     },
     "output_type": "display_data"
    }
   ],
   "source": [
    "# Plotting Stock Price for next 30 days prediction\n",
    "plt.figure(figsize = (10,10))\n",
    "plt.plot(day_new, scaler.inverse_transform(np.array(df[1935:]).reshape(-1,1)), label='100 days')\n",
    "plt.plot(day_pred, scaler.inverse_transform(np.array(temp_input[100:]).reshape(-1,1)), label='30 days')\n",
    "plt.xlabel('Days')\n",
    "plt.ylabel('Stock Price')\n",
    "plt.title('Forecast')\n",
    "plt.legend()\n",
    "plt.show()"
   ]
  },
  {
   "cell_type": "markdown",
   "metadata": {
    "id": "tQyxmCu6O65u"
   },
   "source": [
    "# **Conclusion:**\n",
    "- Stock price between the years 2017 to 2018 are increasing. \n",
    "- But it decreases till september.\n",
    "- Then again there is sudden increase in closing prices in october.\n",
    "- We successfully completed the stock market prediction and forecasting using stacked LSTM model."
   ]
  }
 ],
 "metadata": {
  "accelerator": "GPU",
  "colab": {
   "name": "Task 2 Stock Market Prediction & Forecasting.ipynb",
   "provenance": []
  },
  "kernelspec": {
   "display_name": "Python 3 (ipykernel)",
   "language": "python",
   "name": "python3"
  },
  "language_info": {
   "codemirror_mode": {
    "name": "ipython",
    "version": 3
   },
   "file_extension": ".py",
   "mimetype": "text/x-python",
   "name": "python",
   "nbconvert_exporter": "python",
   "pygments_lexer": "ipython3",
   "version": "3.8.10"
  }
 },
 "nbformat": 4,
 "nbformat_minor": 1
}
